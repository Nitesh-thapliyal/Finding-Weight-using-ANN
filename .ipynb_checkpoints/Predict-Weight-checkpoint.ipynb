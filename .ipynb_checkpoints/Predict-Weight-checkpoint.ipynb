{
 "cells": [
  {
   "cell_type": "code",
   "execution_count": 2,
   "id": "spare-newfoundland",
   "metadata": {},
   "outputs": [],
   "source": [
    "from keras.models import load_model # to load the pre created model"
   ]
  },
  {
   "cell_type": "code",
   "execution_count": 3,
   "id": "accessible-enforcement",
   "metadata": {},
   "outputs": [],
   "source": [
    "m = load_model('Weight_model.h5') # Pre trained weight"
   ]
  },
  {
   "cell_type": "code",
   "execution_count": 4,
   "id": "stable-coral",
   "metadata": {},
   "outputs": [
    {
     "data": {
      "text/plain": [
       "array([[50.884438]], dtype=float32)"
      ]
     },
     "execution_count": 4,
     "metadata": {},
     "output_type": "execute_result"
    }
   ],
   "source": [
    "m.predict([167])"
   ]
  }
 ],
 "metadata": {
  "kernelspec": {
   "display_name": "Python 3",
   "language": "python",
   "name": "python3"
  },
  "language_info": {
   "codemirror_mode": {
    "name": "ipython",
    "version": 3
   },
   "file_extension": ".py",
   "mimetype": "text/x-python",
   "name": "python",
   "nbconvert_exporter": "python",
   "pygments_lexer": "ipython3",
   "version": "3.7.9"
  }
 },
 "nbformat": 4,
 "nbformat_minor": 5
}
