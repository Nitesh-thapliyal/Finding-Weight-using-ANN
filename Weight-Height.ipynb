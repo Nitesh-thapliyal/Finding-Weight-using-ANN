{
 "cells": [
  {
   "cell_type": "markdown",
   "id": "compact-restriction",
   "metadata": {},
   "source": [
    "<b> Created a neural network to predict weight using perceptron</b>"
   ]
  },
  {
   "cell_type": "code",
   "execution_count": 1,
   "id": "exotic-korea",
   "metadata": {},
   "outputs": [],
   "source": [
    "import pandas as pd"
   ]
  },
  {
   "cell_type": "code",
   "execution_count": 2,
   "id": "radical-rescue",
   "metadata": {},
   "outputs": [],
   "source": [
    "dataset = pd.read_csv('weight-height.csv')"
   ]
  },
  {
   "cell_type": "code",
   "execution_count": 3,
   "id": "mounted-median",
   "metadata": {},
   "outputs": [
    {
     "data": {
      "text/html": [
       "<div>\n",
       "<style scoped>\n",
       "    .dataframe tbody tr th:only-of-type {\n",
       "        vertical-align: middle;\n",
       "    }\n",
       "\n",
       "    .dataframe tbody tr th {\n",
       "        vertical-align: top;\n",
       "    }\n",
       "\n",
       "    .dataframe thead th {\n",
       "        text-align: right;\n",
       "    }\n",
       "</style>\n",
       "<table border=\"1\" class=\"dataframe\">\n",
       "  <thead>\n",
       "    <tr style=\"text-align: right;\">\n",
       "      <th></th>\n",
       "      <th>Gender</th>\n",
       "      <th>Height</th>\n",
       "      <th>Weight</th>\n",
       "    </tr>\n",
       "  </thead>\n",
       "  <tbody>\n",
       "    <tr>\n",
       "      <th>0</th>\n",
       "      <td>Male</td>\n",
       "      <td>73.847017</td>\n",
       "      <td>241.893563</td>\n",
       "    </tr>\n",
       "    <tr>\n",
       "      <th>1</th>\n",
       "      <td>Male</td>\n",
       "      <td>68.781904</td>\n",
       "      <td>162.310473</td>\n",
       "    </tr>\n",
       "    <tr>\n",
       "      <th>2</th>\n",
       "      <td>Male</td>\n",
       "      <td>74.110105</td>\n",
       "      <td>212.740856</td>\n",
       "    </tr>\n",
       "    <tr>\n",
       "      <th>3</th>\n",
       "      <td>Male</td>\n",
       "      <td>71.730978</td>\n",
       "      <td>220.042470</td>\n",
       "    </tr>\n",
       "    <tr>\n",
       "      <th>4</th>\n",
       "      <td>Male</td>\n",
       "      <td>69.881796</td>\n",
       "      <td>206.349801</td>\n",
       "    </tr>\n",
       "    <tr>\n",
       "      <th>...</th>\n",
       "      <td>...</td>\n",
       "      <td>...</td>\n",
       "      <td>...</td>\n",
       "    </tr>\n",
       "    <tr>\n",
       "      <th>9995</th>\n",
       "      <td>Female</td>\n",
       "      <td>66.172652</td>\n",
       "      <td>136.777454</td>\n",
       "    </tr>\n",
       "    <tr>\n",
       "      <th>9996</th>\n",
       "      <td>Female</td>\n",
       "      <td>67.067155</td>\n",
       "      <td>170.867906</td>\n",
       "    </tr>\n",
       "    <tr>\n",
       "      <th>9997</th>\n",
       "      <td>Female</td>\n",
       "      <td>63.867992</td>\n",
       "      <td>128.475319</td>\n",
       "    </tr>\n",
       "    <tr>\n",
       "      <th>9998</th>\n",
       "      <td>Female</td>\n",
       "      <td>69.034243</td>\n",
       "      <td>163.852461</td>\n",
       "    </tr>\n",
       "    <tr>\n",
       "      <th>9999</th>\n",
       "      <td>Female</td>\n",
       "      <td>61.944246</td>\n",
       "      <td>113.649103</td>\n",
       "    </tr>\n",
       "  </tbody>\n",
       "</table>\n",
       "<p>10000 rows × 3 columns</p>\n",
       "</div>"
      ],
      "text/plain": [
       "      Gender     Height      Weight\n",
       "0       Male  73.847017  241.893563\n",
       "1       Male  68.781904  162.310473\n",
       "2       Male  74.110105  212.740856\n",
       "3       Male  71.730978  220.042470\n",
       "4       Male  69.881796  206.349801\n",
       "...      ...        ...         ...\n",
       "9995  Female  66.172652  136.777454\n",
       "9996  Female  67.067155  170.867906\n",
       "9997  Female  63.867992  128.475319\n",
       "9998  Female  69.034243  163.852461\n",
       "9999  Female  61.944246  113.649103\n",
       "\n",
       "[10000 rows x 3 columns]"
      ]
     },
     "execution_count": 3,
     "metadata": {},
     "output_type": "execute_result"
    }
   ],
   "source": [
    "dataset"
   ]
  },
  {
   "cell_type": "markdown",
   "id": "meaning-exploration",
   "metadata": {},
   "source": [
    "### Here we can see the dataset has Three columns Gender, Height and weight. It shows that if person is male and if its height is following then he has following weight and same goes for female. So we are using ANN to find out the person weight by giving input as a height, like if person has this much height than he/she should has this weight."
   ]
  },
  {
   "cell_type": "code",
   "execution_count": 4,
   "id": "incident-gamma",
   "metadata": {},
   "outputs": [
    {
     "data": {
      "text/plain": [
       "Index(['Gender', 'Height', 'Weight'], dtype='object')"
      ]
     },
     "execution_count": 4,
     "metadata": {},
     "output_type": "execute_result"
    }
   ],
   "source": [
    "dataset.columns"
   ]
  },
  {
   "cell_type": "code",
   "execution_count": 6,
   "id": "legendary-bulgaria",
   "metadata": {},
   "outputs": [],
   "source": [
    "y = dataset['Weight'] # Weight as an output"
   ]
  },
  {
   "cell_type": "code",
   "execution_count": 7,
   "id": "naked-vegetarian",
   "metadata": {},
   "outputs": [],
   "source": [
    "x = dataset['Height'] # Height as an input"
   ]
  },
  {
   "cell_type": "code",
   "execution_count": 9,
   "id": "african-rebate",
   "metadata": {},
   "outputs": [],
   "source": [
    "from keras.models import Sequential #in sklearn we import linear but in keras we impoort Sequential"
   ]
  },
  {
   "cell_type": "code",
   "execution_count": 10,
   "id": "roman-upgrade",
   "metadata": {},
   "outputs": [],
   "source": [
    "model = Sequential() # creatin the model i.e we have cerated a mind"
   ]
  },
  {
   "cell_type": "code",
   "execution_count": 11,
   "id": "green-poker",
   "metadata": {},
   "outputs": [],
   "source": [
    "from keras.layers import Dense # Dense is a layer in the neural network"
   ]
  },
  {
   "cell_type": "code",
   "execution_count": 17,
   "id": "recorded-spyware",
   "metadata": {},
   "outputs": [],
   "source": [
    "model.add(Dense(activation=\"linear\", input_shape=(1,), units = 1, kernel_initializer=\"zeros\", bias_initializer=\"zeros\"))\n",
    "# activation defines that we want as a continuous value, input_shape defines how many input we will give, units describe how\n",
    "# many output we want, Kernal initializer initialiezes the value and tell us from where to start and for bias it is called \n",
    "# bias initializer"
   ]
  },
  {
   "cell_type": "code",
   "execution_count": 18,
   "id": "further-forwarding",
   "metadata": {},
   "outputs": [
    {
     "name": "stdout",
     "output_type": "stream",
     "text": [
      "Model: \"sequential\"\n",
      "_________________________________________________________________\n",
      "Layer (type)                 Output Shape              Param #   \n",
      "=================================================================\n",
      "dense_3 (Dense)              (None, 1)                 2         \n",
      "=================================================================\n",
      "Total params: 2\n",
      "Trainable params: 2\n",
      "Non-trainable params: 0\n",
      "_________________________________________________________________\n"
     ]
    }
   ],
   "source": [
    "model.summary() # summary is a function to find out what we have in the model, here we can see model has automatically find out\n",
    "# that we need to find out 2 parameter(Param) i.e bias and the weight. In ANN either weight or bias is called parameter(Param) "
   ]
  },
  {
   "cell_type": "code",
   "execution_count": 19,
   "id": "opposite-theta",
   "metadata": {},
   "outputs": [
    {
     "data": {
      "text/plain": [
       "{'name': 'sequential',\n",
       " 'layers': [{'class_name': 'InputLayer',\n",
       "   'config': {'batch_input_shape': (None, 1),\n",
       "    'dtype': 'float32',\n",
       "    'sparse': False,\n",
       "    'ragged': False,\n",
       "    'name': 'dense_3_input'}},\n",
       "  {'class_name': 'Dense',\n",
       "   'config': {'name': 'dense_3',\n",
       "    'trainable': True,\n",
       "    'batch_input_shape': (None, 1),\n",
       "    'dtype': 'float32',\n",
       "    'units': 1,\n",
       "    'activation': 'linear',\n",
       "    'use_bias': True,\n",
       "    'kernel_initializer': {'class_name': 'Zeros', 'config': {}},\n",
       "    'bias_initializer': {'class_name': 'Zeros', 'config': {}},\n",
       "    'kernel_regularizer': None,\n",
       "    'bias_regularizer': None,\n",
       "    'activity_regularizer': None,\n",
       "    'kernel_constraint': None,\n",
       "    'bias_constraint': None}}]}"
      ]
     },
     "execution_count": 19,
     "metadata": {},
     "output_type": "execute_result"
    }
   ],
   "source": [
    "model.get_config() # This function will tell more about the model"
   ]
  },
  {
   "cell_type": "code",
   "execution_count": 20,
   "id": "prime-reception",
   "metadata": {},
   "outputs": [
    {
     "data": {
      "text/plain": [
       "[array([[0.]], dtype=float32), array([0.], dtype=float32)]"
      ]
     },
     "execution_count": 20,
     "metadata": {},
     "output_type": "execute_result"
    }
   ],
   "source": [
    "model.get_weights() # This function show weight but we have'nt trained the model so rn weight is 0"
   ]
  },
  {
   "cell_type": "code",
   "execution_count": 21,
   "id": "cultural-fashion",
   "metadata": {},
   "outputs": [],
   "source": [
    "# Training the Model\n",
    "from keras.optimizers import Adam"
   ]
  },
  {
   "cell_type": "code",
   "execution_count": 22,
   "id": "conscious-finding",
   "metadata": {},
   "outputs": [],
   "source": [
    "model.compile(loss=\"mean_squared_error\", optimizer=Adam()) # Complie function adds the thing to the model, this model is of \n",
    "# regression and in regression we use lose method known as mean squared error, Loss function helps us to reach the best bias\n",
    "# and weight. optimizer are use to optimaze the weight to give correct output"
   ]
  },
  {
   "cell_type": "code",
   "execution_count": 23,
   "id": "increased-search",
   "metadata": {},
   "outputs": [
    {
     "name": "stdout",
     "output_type": "stream",
     "text": [
      "313/313 [==============================] - 0s 1ms/step - loss: 23890.3086\n"
     ]
    },
    {
     "data": {
      "text/plain": [
       "<tensorflow.python.keras.callbacks.History at 0x1f6b54d5048>"
      ]
     },
     "execution_count": 23,
     "metadata": {},
     "output_type": "execute_result"
    }
   ],
   "source": [
    "model.fit(x,y) #Dumping the data to model, now model is created and they have find out bias and the weight.model is trained"
   ]
  },
  {
   "cell_type": "code",
   "execution_count": 24,
   "id": "artificial-convertible",
   "metadata": {},
   "outputs": [
    {
     "data": {
      "text/plain": [
       "[array([[0.3028816]], dtype=float32), array([0.3032103], dtype=float32)]"
      ]
     },
     "execution_count": 24,
     "metadata": {},
     "output_type": "execute_result"
    }
   ],
   "source": [
    "model.get_weights()"
   ]
  },
  {
   "cell_type": "code",
   "execution_count": 26,
   "id": "accepting-saskatchewan",
   "metadata": {},
   "outputs": [
    {
     "data": {
      "text/plain": [
       "array([[50.884438]], dtype=float32)"
      ]
     },
     "execution_count": 26,
     "metadata": {},
     "output_type": "execute_result"
    }
   ],
   "source": [
    "model.predict([167]) #here 100 is the height"
   ]
  },
  {
   "cell_type": "code",
   "execution_count": 27,
   "id": "adjustable-tracker",
   "metadata": {},
   "outputs": [],
   "source": [
    "model.save(\"Weight_model.h5\")# To save the model"
   ]
  }
 ],
 "metadata": {
  "kernelspec": {
   "display_name": "Python 3",
   "language": "python",
   "name": "python3"
  },
  "language_info": {
   "codemirror_mode": {
    "name": "ipython",
    "version": 3
   },
   "file_extension": ".py",
   "mimetype": "text/x-python",
   "name": "python",
   "nbconvert_exporter": "python",
   "pygments_lexer": "ipython3",
   "version": "3.7.9"
  }
 },
 "nbformat": 4,
 "nbformat_minor": 5
}
